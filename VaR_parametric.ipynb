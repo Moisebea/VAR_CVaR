{
 "cells": [
  {
   "cell_type": "code",
   "execution_count": 1,
   "metadata": {},
   "outputs": [],
   "source": [
    "import numpy as np\n",
    "import pandas as pd\n",
    "import datetime as dt\n",
    "import yfinance as yf\n",
    "import matplotlib.pyplot as plt\n",
    "from scipy.stats import norm"
   ]
  },
  {
   "cell_type": "code",
   "execution_count": 2,
   "metadata": {},
   "outputs": [],
   "source": [
    "years = 5\n",
    "endDate = dt.datetime.now()\n",
    "startDate = endDate - dt.timedelta(days = 365*years)"
   ]
  },
  {
   "cell_type": "code",
   "execution_count": 3,
   "metadata": {},
   "outputs": [],
   "source": [
    "tickers = ['SPY','BND','GLD','QQQ','VTI']"
   ]
  },
  {
   "cell_type": "code",
   "execution_count": 4,
   "metadata": {},
   "outputs": [
    {
     "name": "stdout",
     "output_type": "stream",
     "text": [
      "[*********************100%***********************]  1 of 1 completed\n",
      "[*********************100%***********************]  1 of 1 completed\n",
      "[*********************100%***********************]  1 of 1 completed\n",
      "[*********************100%***********************]  1 of 1 completed\n",
      "[*********************100%***********************]  1 of 1 completed\n",
      "                   SPY        BND         GLD         QQQ         VTI\n",
      "Date                                                                 \n",
      "2018-10-10  256.016693  68.507523  112.879997  166.113174  131.171295\n",
      "2018-10-11  250.377518  68.701180  115.779999  164.052856  128.374390\n",
      "2018-10-12  253.854919  68.683586  115.230003  168.618469  130.067261\n",
      "2018-10-15  252.428909  68.665970  116.000000  166.577499  129.487610\n",
      "2018-10-16  257.948608  68.718781  115.800003  171.423584  132.339813\n",
      "...                ...        ...         ...         ...         ...\n",
      "2023-10-02  427.309998  69.110001  169.649994  361.260010  212.130005\n",
      "2023-10-03  421.589996  68.550003  169.160004  354.920013  209.050003\n",
      "2023-10-04  424.660004  69.000000  169.139999  359.750000  210.559998\n",
      "2023-10-05  424.500000  69.050003  168.830002  358.690002  210.449997\n",
      "2023-10-06  429.540009  68.779999  169.699997  364.700012  212.960007\n",
      "\n",
      "[1256 rows x 5 columns]\n"
     ]
    }
   ],
   "source": [
    "adj_close = pd.DataFrame()\n",
    "\n",
    "for ticker in tickers:\n",
    "    data = yf.download(ticker,start = startDate,end = endDate)\n",
    "    adj_close[ticker] = data['Adj Close']\n",
    "\n",
    "print(adj_close)"
   ]
  },
  {
   "cell_type": "code",
   "execution_count": 5,
   "metadata": {},
   "outputs": [
    {
     "name": "stdout",
     "output_type": "stream",
     "text": [
      "                 SPY       BND       GLD       QQQ       VTI\n",
      "Date                                                        \n",
      "2018-10-11 -0.022273  0.002823  0.025367 -0.012481 -0.021553\n",
      "2018-10-12  0.013793 -0.000256 -0.004762  0.027450  0.013101\n",
      "2018-10-15 -0.005633 -0.000257  0.006660 -0.012178 -0.004467\n",
      "2018-10-16  0.021631  0.000769 -0.001726  0.028677  0.021788\n",
      "2018-10-17  0.000178 -0.001795 -0.000086  0.000395 -0.000278\n",
      "...              ...       ...       ...       ...       ...\n",
      "2023-10-02 -0.000398 -0.006893 -0.010554  0.008311 -0.001319\n",
      "2023-10-03 -0.013476 -0.008136 -0.002892 -0.017705 -0.014626\n",
      "2023-10-04  0.007256  0.006543 -0.000118  0.013517  0.007197\n",
      "2023-10-05 -0.000377  0.000724 -0.001834 -0.002951 -0.000523\n",
      "2023-10-06  0.011803 -0.003918  0.005140  0.016617  0.011856\n",
      "\n",
      "[1255 rows x 5 columns]\n"
     ]
    }
   ],
   "source": [
    "log_returns = np.log(adj_close/adj_close.shift(1))\n",
    "log_returns = log_returns.dropna()\n",
    "\n",
    "print(log_returns)"
   ]
  },
  {
   "cell_type": "code",
   "execution_count": 6,
   "metadata": {},
   "outputs": [
    {
     "name": "stdout",
     "output_type": "stream",
     "text": [
      "[0.2 0.2 0.2 0.2 0.2]\n"
     ]
    }
   ],
   "source": [
    "portofolio_value = 100000\n",
    "# This line creates an array of equal weights for each ticker in the list 'tickers'\n",
    "weights = np.array([1/len(tickers)]*len(tickers))\n",
    "print(weights)"
   ]
  },
  {
   "cell_type": "code",
   "execution_count": 7,
   "metadata": {},
   "outputs": [
    {
     "name": "stdout",
     "output_type": "stream",
     "text": [
      "Date\n",
      "2018-10-11   -0.005623\n",
      "2018-10-12    0.009865\n",
      "2018-10-15   -0.003175\n",
      "2018-10-16    0.014228\n",
      "2018-10-17   -0.000317\n",
      "                ...   \n",
      "2023-10-02   -0.002171\n",
      "2023-10-03   -0.011367\n",
      "2023-10-04    0.006879\n",
      "2023-10-05   -0.000992\n",
      "2023-10-06    0.008300\n",
      "Length: 1255, dtype: float64\n"
     ]
    }
   ],
   "source": [
    "historical_returns = (log_returns * weights).sum(axis =1)\n",
    "print(historical_returns)"
   ]
  },
  {
   "cell_type": "code",
   "execution_count": 8,
   "metadata": {},
   "outputs": [],
   "source": [
    "days = 5\n",
    "\n",
    "historical_x_day_returns = historical_returns.rolling(window = days).sum()"
   ]
  },
  {
   "cell_type": "code",
   "execution_count": 9,
   "metadata": {},
   "outputs": [
    {
     "data": {
      "text/html": [
       "<div>\n",
       "<style scoped>\n",
       "    .dataframe tbody tr th:only-of-type {\n",
       "        vertical-align: middle;\n",
       "    }\n",
       "\n",
       "    .dataframe tbody tr th {\n",
       "        vertical-align: top;\n",
       "    }\n",
       "\n",
       "    .dataframe thead th {\n",
       "        text-align: right;\n",
       "    }\n",
       "</style>\n",
       "<table border=\"1\" class=\"dataframe\">\n",
       "  <thead>\n",
       "    <tr style=\"text-align: right;\">\n",
       "      <th></th>\n",
       "      <th>SPY</th>\n",
       "      <th>BND</th>\n",
       "      <th>GLD</th>\n",
       "      <th>QQQ</th>\n",
       "      <th>VTI</th>\n",
       "    </tr>\n",
       "  </thead>\n",
       "  <tbody>\n",
       "    <tr>\n",
       "      <th>SPY</th>\n",
       "      <td>0.046485</td>\n",
       "      <td>0.002392</td>\n",
       "      <td>0.003121</td>\n",
       "      <td>0.052854</td>\n",
       "      <td>0.047476</td>\n",
       "    </tr>\n",
       "    <tr>\n",
       "      <th>BND</th>\n",
       "      <td>0.002392</td>\n",
       "      <td>0.004307</td>\n",
       "      <td>0.003653</td>\n",
       "      <td>0.002969</td>\n",
       "      <td>0.002531</td>\n",
       "    </tr>\n",
       "    <tr>\n",
       "      <th>GLD</th>\n",
       "      <td>0.003121</td>\n",
       "      <td>0.003653</td>\n",
       "      <td>0.021816</td>\n",
       "      <td>0.004519</td>\n",
       "      <td>0.003284</td>\n",
       "    </tr>\n",
       "    <tr>\n",
       "      <th>QQQ</th>\n",
       "      <td>0.052854</td>\n",
       "      <td>0.002969</td>\n",
       "      <td>0.004519</td>\n",
       "      <td>0.069017</td>\n",
       "      <td>0.053942</td>\n",
       "    </tr>\n",
       "    <tr>\n",
       "      <th>VTI</th>\n",
       "      <td>0.047476</td>\n",
       "      <td>0.002531</td>\n",
       "      <td>0.003284</td>\n",
       "      <td>0.053942</td>\n",
       "      <td>0.048861</td>\n",
       "    </tr>\n",
       "  </tbody>\n",
       "</table>\n",
       "</div>"
      ],
      "text/plain": [
       "          SPY       BND       GLD       QQQ       VTI\n",
       "SPY  0.046485  0.002392  0.003121  0.052854  0.047476\n",
       "BND  0.002392  0.004307  0.003653  0.002969  0.002531\n",
       "GLD  0.003121  0.003653  0.021816  0.004519  0.003284\n",
       "QQQ  0.052854  0.002969  0.004519  0.069017  0.053942\n",
       "VTI  0.047476  0.002531  0.003284  0.053942  0.048861"
      ]
     },
     "execution_count": 9,
     "metadata": {},
     "output_type": "execute_result"
    }
   ],
   "source": [
    "cov_matrix = log_returns.cov()* 252\n",
    "cov_matrix"
   ]
  },
  {
   "cell_type": "code",
   "execution_count": 10,
   "metadata": {},
   "outputs": [
    {
     "data": {
      "text/plain": [
       "0.1475085027247076"
      ]
     },
     "execution_count": 10,
     "metadata": {},
     "output_type": "execute_result"
    }
   ],
   "source": [
    "portofolio_std_dev = np.sqrt(weights.T @cov_matrix @weights)\n",
    "portofolio_std_dev"
   ]
  },
  {
   "cell_type": "code",
   "execution_count": 12,
   "metadata": {},
   "outputs": [],
   "source": [
    "confidence_levels = [.9,.95,.99]"
   ]
  },
  {
   "cell_type": "code",
   "execution_count": 13,
   "metadata": {},
   "outputs": [],
   "source": [
    "VaRs = []\n",
    "for cl in  confidence_levels:\n",
    "    VaR = portofolio_value * portofolio_std_dev * norm.ppf(cl) *np.sqrt(days/252)\n",
    "    VaRs.append(VaR)\n",
    "    "
   ]
  },
  {
   "cell_type": "code",
   "execution_count": 18,
   "metadata": {},
   "outputs": [
    {
     "name": "stdout",
     "output_type": "stream",
     "text": [
      "Confidence Level    Value at Risk       \n",
      "----------------------------------------\n",
      "90%:               $  2,662.80\n",
      "95%:               $  3,417.66\n",
      "99%:               $  4,833.66\n"
     ]
    }
   ],
   "source": [
    "print(f'{\"Confidence Level\":<20}{\"Value at Risk\":<20}')\n",
    "print('-'*40)\n",
    "\n",
    "for cl , VaR in zip(confidence_levels,VaRs):\n",
    "    print(f'{cl *100 :>.0f}%:      {\"\":8} ${VaR:>10,.2f}')"
   ]
  },
  {
   "cell_type": "code",
   "execution_count": 19,
   "metadata": {},
   "outputs": [
    {
     "data": {
      "image/png": "[encoded data removed]",
      "text/plain": [
       "<Figure size 640x480 with 1 Axes>"
      ]
     },
     "metadata": {},
     "output_type": "display_data"
    }
   ],
   "source": [
    "historical_x_day_returns_dollar = historical_x_day_returns * portofolio_value\n",
    "\n",
    "plt.hist(historical_x_day_returns_dollar,bins=50,density=True,alpha=.5,label=f'{days}-Day Returns')\n",
    "for cl,VaR in zip(confidence_levels,VaRs):\n",
    "    plt.axvline(x=_-VaR,linestyle='--',color='r',label='VaR at {}% Confidence level'.format(int(cl *100)))\n",
    "\n",
    "plt.xlabel(f'{days}-Day Portofolio Return($)')\n",
    "plt.ylabel('Frequency')\n",
    "plt.title(f'Distribution of portofolio {days} Day Returns and parametric VaR Estimates')\n",
    "plt.legend()\n",
    "plt.show()\n",
    "                "
   ]
  }
 ],
 "metadata": {
  "kernelspec": {
   "display_name": "Python 3",
   "language": "python",
   "name": "python3"
  },
  "language_info": {
   "codemirror_mode": {
    "name": "ipython",
    "version": 3
   },
   "file_extension": ".py",
   "mimetype": "text/x-python",
   "name": "python",
   "nbconvert_exporter": "python",
   "pygments_lexer": "ipython3",
   "version": "3.11.0"
  },
  "orig_nbformat": 4
 },
 "nbformat": 4,
 "nbformat_minor": 2
}
